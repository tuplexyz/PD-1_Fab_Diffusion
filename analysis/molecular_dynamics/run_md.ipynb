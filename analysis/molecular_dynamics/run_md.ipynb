{
 "cells": [
  {
   "cell_type": "markdown",
   "metadata": {},
   "source": [
    "# Molecular Dynamics of Antibody-Antigen Complexes"
   ]
  },
  {
   "cell_type": "code",
   "execution_count": null,
   "metadata": {},
   "outputs": [],
   "source": [
    "# conda install -c conda-forge pdbfixer openmm matplotlib"
   ]
  },
  {
   "cell_type": "code",
   "execution_count": 1,
   "metadata": {},
   "outputs": [],
   "source": [
    "## Load Libraries\n",
    "from openmm.app import *\n",
    "from openmm import *\n",
    "from openmm.unit import *\n",
    "from openmm.app import PDBFile\n",
    "from pdbfixer import PDBFixer\n",
    "\n",
    "from sys import stdout\n",
    "import os"
   ]
  },
  {
   "cell_type": "code",
   "execution_count": 2,
   "metadata": {},
   "outputs": [
    {
     "name": "stdout",
     "output_type": "stream",
     "text": [
      "Cleaning up PDB file...\n",
      "\tInput PDB File: ../../docking/outputs/best_pdbs/TUPPD1-001_61w.pdb\n"
     ]
    }
   ],
   "source": [
    "## Define Input PDB Structure\n",
    "input_pbd_file = '../../docking/outputs/best_pdbs/TUPPD1-001_61w.pdb'\n",
    "\n",
    "output_pdb_file = input_pbd_file.replace('../../docking/outputs/best_pdbs/', './clean_pdbs/').replace('.pdb', '_clean.pdb')\n",
    "\n",
    "print('Cleaning up PDB file...')\n",
    "print(f'\\tInput PDB File: {input_pbd_file}')\n",
    "\n",
    "## Make folders for output file\n",
    "output_folder = os.path.dirname(output_pdb_file)\n",
    "if not os.path.exists(output_folder):\n",
    "    os.makedirs(output_folder)"
   ]
  },
  {
   "cell_type": "code",
   "execution_count": 3,
   "metadata": {},
   "outputs": [
    {
     "name": "stdout",
     "output_type": "stream",
     "text": [
      "Preparing PDB file...\n"
     ]
    },
    {
     "name": "stderr",
     "output_type": "stream",
     "text": [
      "Warning: importing 'simtk.openmm' is deprecated.  Import 'openmm' instead.\n"
     ]
    },
    {
     "name": "stdout",
     "output_type": "stream",
     "text": [
      "\tOutput PDB File: ./clean_pdbs/TUPPD1-001_61w_clean.pdb\n"
     ]
    }
   ],
   "source": [
    "## Fix PDB file to repair missing hydrogens and other issues\n",
    "print('Preparing PDB file...')\n",
    "\n",
    "fixer = PDBFixer(filename=input_pbd_file)\n",
    "fixer.findMissingResidues()\n",
    "fixer.findNonstandardResidues()\n",
    "fixer.replaceNonstandardResidues()\n",
    "fixer.removeHeterogens(True)\n",
    "fixer.findMissingAtoms()\n",
    "fixer.addMissingAtoms()\n",
    "# fixer.addMissingHydrogens(7.0)\n",
    "fixer.addMissingHydrogens(7.4)\n",
    "# fixer.addSolvent(fixer.topology.getUnitCellDimensions())\n",
    "PDBFile.writeFile(fixer.topology, fixer.positions, open(output_pdb_file, 'w'))\n",
    "\n",
    "print(f'\\tOutput PDB File: {output_pdb_file}')"
   ]
  },
  {
   "cell_type": "code",
   "execution_count": 23,
   "metadata": {},
   "outputs": [
    {
     "name": "stdout",
     "output_type": "stream",
     "text": [
      "Creating Force Field...\n"
     ]
    }
   ],
   "source": [
    "## Make Forcefield and Modeller\n",
    "print('Creating Force Field...')\n",
    "pdb = PDBFile(output_pdb_file)\n",
    "# forcefield = ForceField('amber14-all.xml', 'amber14/tip3pfb.xml')\n",
    "forcefield = ForceField('charmm36.xml', 'charmm36/water.xml')\n",
    "\n",
    "# modeller = Modeller(pdb.topology, pdb.positions)\n",
    "modeller = Modeller(fixer.topology, fixer.positions)\n",
    "modeller.deleteWater()\n",
    "\n",
    "residues = modeller.addHydrogens(forcefield)\n",
    "modeller.addSolvent(forcefield, padding=1.0*nanometer)\n",
    "\n",
    "# PDBFile.writeFile(modeller.topology, modeller.positions, open(output_pdb_file, 'w'))"
   ]
  },
  {
   "cell_type": "code",
   "execution_count": 24,
   "metadata": {},
   "outputs": [
    {
     "name": "stdout",
     "output_type": "stream",
     "text": [
      "Creating Simulation System...\n"
     ]
    }
   ],
   "source": [
    "print('Creating Simulation System...')\n",
    "system = forcefield.createSystem(modeller.topology, nonbondedMethod=PME, nonbondedCutoff=1.0*nanometer, constraints=HBonds)\n",
    "integrator = LangevinMiddleIntegrator(300*kelvin, 1/picosecond, 0.004*picoseconds)\n",
    "simulation = Simulation(modeller.topology, system, integrator)\n",
    "simulation.context.setPositions(modeller.positions)"
   ]
  },
  {
   "cell_type": "code",
   "execution_count": 25,
   "metadata": {},
   "outputs": [
    {
     "name": "stdout",
     "output_type": "stream",
     "text": [
      "Minimizing energy...\n"
     ]
    }
   ],
   "source": [
    "## Minimize Energy\n",
    "print(\"Minimizing energy...\")\n",
    "simulation.minimizeEnergy(maxIterations = 250)\n",
    "# simulation.minimizeEnergy()\n",
    "## In theory, we're already at the lowest (or low-ish) energy from HADDOCK?"
   ]
  },
  {
   "cell_type": "code",
   "execution_count": 17,
   "metadata": {},
   "outputs": [],
   "source": [
    "## Equilibrate\n",
    "simulation.reporters.append(PDBReporter(output_pdb_file, 1000))\n",
    "simulation.reporters.append(StateDataReporter(stdout,\n",
    "                                              1000,\n",
    "                                              step=True,\n",
    "                                              potentialEnergy=True,\n",
    "                                              temperature=True,\n",
    "                                              volume=True))\n",
    "\n",
    "output_pdb_md_log_file = output_pdb_file.replace('.pdb', '_log.txt')\n",
    "\n",
    "simulation.reporters.append(StateDataReporter(output_pdb_md_log_file,\n",
    "                                              100,\n",
    "                                              step=True,\n",
    "                                              potentialEnergy=True,\n",
    "                                              temperature=True,\n",
    "                                              volume=True))"
   ]
  },
  {
   "cell_type": "code",
   "execution_count": 26,
   "metadata": {},
   "outputs": [
    {
     "name": "stdout",
     "output_type": "stream",
     "text": [
      "Running NVT...\n"
     ]
    }
   ],
   "source": [
    "## Run NVT\n",
    "print(\"Running NVT...\")\n",
    "n_steps = 10000\n",
    "simulation.step(n_steps)"
   ]
  },
  {
   "cell_type": "code",
   "execution_count": 27,
   "metadata": {},
   "outputs": [
    {
     "name": "stdout",
     "output_type": "stream",
     "text": [
      "Running NPT...\n"
     ]
    }
   ],
   "source": [
    "## Run NPT\n",
    "system.addForce(MonteCarloBarostat(1*bar, 300*kelvin))\n",
    "simulation.context.reinitialize(preserveState=True)\n",
    "\n",
    "print(\"Running NPT...\")\n",
    "simulation.step(10000)"
   ]
  },
  {
   "cell_type": "code",
   "execution_count": 28,
   "metadata": {},
   "outputs": [
    {
     "data": {
      "image/png": "[encoded data removed]",
      "text/plain": [
       "<Figure size 432x288 with 1 Axes>"
      ]
     },
     "metadata": {
      "needs_background": "light"
     },
     "output_type": "display_data"
    },
    {
     "data": {
      "image/png": "[encoded data removed]",
      "text/plain": [
       "<Figure size 432x288 with 1 Axes>"
      ]
     },
     "metadata": {
      "needs_background": "light"
     },
     "output_type": "display_data"
    },
    {
     "data": {
      "image/png": "[encoded data removed]",
      "text/plain": [
       "<Figure size 432x288 with 1 Axes>"
      ]
     },
     "metadata": {
      "needs_background": "light"
     },
     "output_type": "display_data"
    }
   ],
   "source": [
    "\n",
    "## Plot Results\n",
    "import numpy as np\n",
    "import matplotlib.pyplot as plt\n",
    "\n",
    "## Load Data\n",
    "data = np.loadtxt(output_pdb_md_log_file, delimiter=',')\n",
    "\n",
    "step = data[:,0]\n",
    "potential_energy = data[:,1]\n",
    "temperature = data[:,2]\n",
    "volume = data[:,3]\n",
    "\n",
    "## Potential Energy\n",
    "plt.plot(step, potential_energy)\n",
    "plt.xlabel(\"Step\")\n",
    "plt.ylabel(\"Potential energy (kJ/mol)\")\n",
    "plt.savefig(output_pdb_file.replace('.pdb', '_potential_energy.png'))\n",
    "plt.show()\n",
    "\n",
    "\n",
    "## Temperature\n",
    "plt.plot(step, temperature)\n",
    "plt.xlabel(\"Step\")\n",
    "plt.ylabel(\"Temperature (K)\")\n",
    "plt.savefig(output_pdb_file.replace('.pdb', '_temperature.png'))\n",
    "plt.show()\n",
    "\n",
    "## Volume\n",
    "plt.plot(step, volume)\n",
    "plt.xlabel(\"Step\")\n",
    "plt.ylabel(\"Volume (nm^3)\")\n",
    "plt.savefig(output_pdb_file.replace('.pdb', '_volume.png'))\n",
    "plt.show()"
   ]
  },
  {
   "cell_type": "code",
   "execution_count": null,
   "metadata": {},
   "outputs": [],
   "source": [
    "## Output Full PDB (post-simulation)\n",
    "\n",
    "positions = simulation.context.getState(getPositions=True).getPositions()\n",
    "PDBFile.writeFile(simulation.topology, positions, open(f'{output_pdb_file}_FULL.pdb', 'w'))"
   ]
  }
 ],
 "metadata": {
  "kernelspec": {
   "display_name": "base",
   "language": "python",
   "name": "python3"
  },
  "language_info": {
   "codemirror_mode": {
    "name": "ipython",
    "version": 3
   },
   "file_extension": ".py",
   "mimetype": "text/x-python",
   "name": "python",
   "nbconvert_exporter": "python",
   "pygments_lexer": "ipython3",
   "version": "3.7.13"
  }
 },
 "nbformat": 4,
 "nbformat_minor": 2
}
