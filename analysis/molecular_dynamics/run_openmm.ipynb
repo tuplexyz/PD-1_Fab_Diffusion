{
 "cells": [
  {
   "cell_type": "code",
   "execution_count": null,
   "metadata": {},
   "outputs": [],
   "source": [
    "## Load Libraries\n",
    "from openmm.app import *\n",
    "from openmm import *\n",
    "from openmm.unit import *\n",
    "from openmm.app import PDBFile\n",
    "from pdbfixer import PDBFixer\n",
    "\n",
    "from sys import stdout\n",
    "import os\n",
    "\n",
    "# import openmmtools\n",
    "import time\n",
    "# import progressbar\n",
    "from openmm import XmlSerializer"
   ]
  },
  {
   "cell_type": "code",
   "execution_count": null,
   "metadata": {},
   "outputs": [],
   "source": [
    "input_path_prefix = '../../docking/outputs/best_pdbs/'\n",
    "## TUPPD1-001\n",
    "# input_pdb_filename = 'TUPPD1-001_61w.pdb'\n",
    "# output_path_prefix = './TUPPD1-001/'\n",
    "\n",
    "## TUPPD1-002\n",
    "# input_pdb_filename = 'TUPPD1-002_125w.pdb'\n",
    "# output_path_prefix = './TUPPD1-002/'\n",
    "\n",
    "## TUPPD1-009\n",
    "# input_pdb_filename = 'TUPPD1-009_183w.pdb'\n",
    "# output_path_prefix = './TUPPD1-009/'\n",
    "\n",
    "## Pembrolizumab\n",
    "# input_pdb_filename = 'Pembrolizumab_144w.pdb'\n",
    "# output_path_prefix = './Pembrolizumab/'\n",
    "\n",
    "## Nivolumab\n",
    "input_pdb_filename = 'Nivolumab_199w.pdb'\n",
    "output_path_prefix = './Nivolumab/'\n",
    "\n",
    "\n",
    "os.makedirs(output_path_prefix, exist_ok=True)"
   ]
  },
  {
   "cell_type": "code",
   "execution_count": null,
   "metadata": {},
   "outputs": [],
   "source": [
    "## Set global parameters\n",
    "# timestep = 4*femtosecond\n",
    "timestamp = 0.004*picoseconds\n",
    "\n",
    "## Set to run for 100ns\n",
    "nsteps = 1000\n",
    "niterations = 100\n",
    "\n",
    "# nsteps = 12500 # 50 ps\n",
    "# niterations = 1000 # 50 ns\n",
    "\n",
    "## set pH to blood-equivalent\n",
    "pH = 7.4"
   ]
  },
  {
   "cell_type": "code",
   "execution_count": null,
   "metadata": {},
   "outputs": [],
   "source": [
    "## Fix PDB file to repair missing hydrogens and other issues\n",
    "print('Preparing PDB file...')\n",
    "\n",
    "fixer = PDBFixer(filename=f'{input_path_prefix}{input_pdb_filename}')\n",
    "fixer.findMissingResidues()\n",
    "fixer.findNonstandardResidues()\n",
    "fixer.replaceNonstandardResidues()\n",
    "fixer.removeHeterogens(True)\n",
    "fixer.findMissingAtoms()\n",
    "fixer.addMissingAtoms()\n",
    "fixer.addMissingHydrogens(pH)\n",
    "# fixer.addSolvent(fixer.topology.getUnitCellDimensions())\n",
    "\n",
    "print(f\"\\tSetting pH to {pH}.\")\n",
    "\n",
    "clean_output_path = f\"{output_path_prefix}{input_pdb_filename.replace('.pdb', '_clean.pdb')}\"\n",
    "PDBFile.writeFile(fixer.topology, fixer.positions, open(clean_output_path, 'w'))\n",
    "print(f'\\tOutput PDB File: {clean_output_path}')"
   ]
  },
  {
   "cell_type": "code",
   "execution_count": null,
   "metadata": {},
   "outputs": [],
   "source": [
    "# Set up forcefield\n",
    "print(\"Loading forcefield...\")\n",
    "# forcefield = ForceField('amber14-all.xml', 'amber14/tip3pfb.xml')\n",
    "forcefield = ForceField('charmm36.xml', 'charmm36/water.xml')"
   ]
  },
  {
   "cell_type": "code",
   "execution_count": null,
   "metadata": {},
   "outputs": [],
   "source": [
    "# Set up topology\n",
    "print(\"Setting up topology...\")\n",
    "pdb = PDBFile(clean_output_path)\n",
    "modeller = Modeller(pdb.topology, pdb.positions)\n",
    "modeller.addHydrogens(forcefield, pH=pH)\n",
    "\n",
    "print(f\"\\tSetting pH to {pH}.\")"
   ]
  },
  {
   "cell_type": "code",
   "execution_count": null,
   "metadata": {},
   "outputs": [],
   "source": [
    "# Add solvent\n",
    "print(\"Adding solvent...\")\n",
    "modeller.addSolvent(forcefield, ionicStrength=150*millimolar, padding=1.0*nanometers) # default: tip3p"
   ]
  },
  {
   "cell_type": "code",
   "execution_count": null,
   "metadata": {},
   "outputs": [],
   "source": [
    "# Save solvated PDB\n",
    "print(\"Writing the solvated model...\")\n",
    "solvated_output_path = f\"{output_path_prefix}{input_pdb_filename.replace('.pdb', '_solvated.pdb')}\"\n",
    "PDBFile.writeFile(modeller.topology, modeller.positions, open(solvated_output_path, 'w'), keepIds=True)"
   ]
  },
  {
   "cell_type": "code",
   "execution_count": null,
   "metadata": {},
   "outputs": [],
   "source": [
    "# Set up system\n",
    "print('Creating OpenMM System...')\n",
    "system = forcefield.createSystem(modeller.topology,\n",
    "                                 nonbondedMethod=PME,\n",
    "                                 nonbondedCutoff=1*nanometer,\n",
    "                                 constraints=HBonds,\n",
    "                                 hydrogenMass=4*amu)"
   ]
  },
  {
   "cell_type": "code",
   "execution_count": null,
   "metadata": {},
   "outputs": [],
   "source": [
    "# Add barostat\n",
    "print('Adding barostat...')\n",
    "system.addForce(MonteCarloBarostat(1*bar, 300*kelvin))"
   ]
  },
  {
   "cell_type": "code",
   "execution_count": null,
   "metadata": {},
   "outputs": [],
   "source": [
    "# Set up integrator\n",
    "print(\"Setting up LMI...\")\n",
    "integrator = LangevinMiddleIntegrator(300*kelvin, 1/picosecond, timestep)"
   ]
  },
  {
   "cell_type": "code",
   "execution_count": null,
   "metadata": {},
   "outputs": [],
   "source": [
    "# Serialize and save the system to an xml file\n",
    "print(\"Seralizing the system...\")\n",
    "serial_output_path = f\"{output_path_prefix}{input_pdb_filename.replace('.pdb', '_serialized.xml')}\"\n",
    "with open(serial_output_path, 'w') as f:\n",
    "\tf.write(XmlSerializer.serialize(system))"
   ]
  },
  {
   "cell_type": "code",
   "execution_count": null,
   "metadata": {},
   "outputs": [],
   "source": [
    "# Set up platform\n",
    "print(\"Setting up the platform...\")\n",
    "platform = Platform.getPlatformByName('CUDA')\n",
    "platform.setPropertyDefaultValue('Precision', 'mixed')"
   ]
  },
  {
   "cell_type": "code",
   "execution_count": null,
   "metadata": {},
   "outputs": [],
   "source": [
    "# Set up simulation \n",
    "print(\"Setting up the simulation...\")\n",
    "simulation = Simulation(modeller.topology, system, integrator, platform)\n",
    "simulation.context.setPositions(modeller.positions)"
   ]
  },
  {
   "cell_type": "code",
   "execution_count": null,
   "metadata": {},
   "outputs": [],
   "source": [
    "# Minimize energy\n",
    "print(\"Minimizing energy...\")\n",
    "print(f'  initial : {(simulation.context.getState(getEnergy=True).getPotentialEnergy()/kilocalories_per_mole)} kcal/mol')\n",
    "simulation.minimizeEnergy(tolerance=5*kilojoule/mole)\n",
    "print(f'  final   : {(simulation.context.getState(getEnergy=True).getPotentialEnergy()/kilocalories_per_mole)} kcal/mol')"
   ]
  },
  {
   "cell_type": "code",
   "execution_count": null,
   "metadata": {},
   "outputs": [],
   "source": [
    "# Save energy minimized PDB\n",
    "print(\"Writing the minimized model...\")\n",
    "minimized_output_path = f\"{output_path_prefix}{input_pdb_filename.replace('.pdb', '_minimized.pdb')}\"\n",
    "positions_minimized = simulation.context.getState(getPositions=True, enforcePeriodicBox=False).getPositions()\n",
    "PDBFile.writeFile(modeller.topology, positions_minimized, open(minimized_output_path, 'w'),  keepIds=True)"
   ]
  },
  {
   "cell_type": "code",
   "execution_count": null,
   "metadata": {},
   "outputs": [],
   "source": [
    "# Set up reporters for state data, checkpoint file, and trajectory \n",
    "csv_output_path = f\"{output_path_prefix}{input_pdb_filename.replace('.pdb', '.csv')}\"\n",
    "checkpoint_output_path = f\"{output_path_prefix}{input_pdb_filename.replace('.pdb', '.chk')}\"\n",
    "dcd_output_path = f\"{output_path_prefix}{input_pdb_filename.replace('.pdb', '.dcd')}\"\n",
    "\n",
    "simulation.reporters.append(StateDataReporter(csv_output_path, nsteps,\n",
    "                                              time=True, step=True, potentialEnergy=True,\n",
    "                                              kineticEnergy=True, totalEnergy=True,\n",
    "                                              volume=True, temperature=True))\n",
    "simulation.reporters.append(CheckpointReporter(checkpoint_output_path, nsteps))\n",
    "simulation.reporters.append(DCDReporter(dcd_output_path, nsteps, enforcePeriodicBox=False))"
   ]
  },
  {
   "cell_type": "code",
   "execution_count": null,
   "metadata": {},
   "outputs": [],
   "source": [
    "# Equilibrate\n",
    "print('Equilibrating...')\n",
    "for iteration in range(niterations):\n",
    "    simulation.step(nsteps)\n",
    "    state = simulation.context.getState(getPositions=True, getVelocities=True)\n",
    "    # with open(serial_output_path, 'w') as outfile:\n",
    "    #     state_xml = XmlSerializer.serialize(state)\n",
    "    #     outfile.write(state_xml)"
   ]
  },
  {
   "cell_type": "code",
   "execution_count": null,
   "metadata": {},
   "outputs": [],
   "source": [
    "# Save equilibrated pdb\n",
    "print(\"Writing equilbrated model...\")\n",
    "equilibrated_output_path = f\"{output_path_prefix}{input_pdb_filename.replace('.pdb', '_equilibrated.pdb')}\"\n",
    "positions_equilibrated = simulation.context.getState(getPositions=True, enforcePeriodicBox=False).getPositions()\n",
    "PDBFile.writeFile(modeller.topology, positions_equilibrated, open(equilibrated_output_path, 'w'), keepIds=True)\n",
    "\n",
    "print(f'  final   : {(simulation.context.getState(getEnergy=True).getPotentialEnergy()/kilocalories_per_mole)} kcal/mol')"
   ]
  },
  {
   "cell_type": "code",
   "execution_count": null,
   "metadata": {},
   "outputs": [],
   "source": [
    "\n",
    "## Plot Results\n",
    "import numpy as np\n",
    "import matplotlib.pyplot as plt\n",
    "\n",
    "## Load Data\n",
    "data = np.loadtxt(csv_output_path, delimiter=',')\n",
    "plot_output_path = f\"{output_path_prefix}{input_pdb_filename.replace('.pdb', '_md.png')}\"\n",
    "\n",
    "step = data[:,0]\n",
    "time_ps = data[:,1]\n",
    "potential_energy = data[:,2]\n",
    "kinetic_energy = data[:,3]\n",
    "total_energy = data[:,4]\n",
    "# temperature = data[:,5]\n",
    "# volume = data[:,6]\n",
    "\n",
    "## Potential Energy\n",
    "plt.plot(time_ps, potential_energy, label = \"Potential Energy\")\n",
    "# plt.plot(time_ps, kinetic_energy, label = \"Kinetic Energy\")\n",
    "# plt.plot(time_ps, total_energy, label = \"Total Energy\")\n",
    "plt.xlabel(\"Time (ps)\")\n",
    "plt.ylabel(\"Energy (kJ/mol)\")\n",
    "plt.legend() \n",
    "plt.savefig(plot_output_path)\n",
    "plt.show()"
   ]
  },
  {
   "cell_type": "code",
   "execution_count": null,
   "metadata": {},
   "outputs": [],
   "source": []
  }
 ],
 "metadata": {
  "kernelspec": {
   "display_name": "Python 3",
   "language": "python",
   "name": "python3"
  },
  "language_info": {
   "codemirror_mode": {
    "name": "ipython",
    "version": 3
   },
   "file_extension": ".py",
   "mimetype": "text/x-python",
   "name": "python",
   "nbconvert_exporter": "python",
   "pygments_lexer": "ipython3",
   "version": "3.7.13"
  }
 },
 "nbformat": 4,
 "nbformat_minor": 2
}
