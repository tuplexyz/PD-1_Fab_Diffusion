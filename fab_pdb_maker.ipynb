{
 "cells": [
  {
   "cell_type": "markdown",
   "metadata": {},
   "source": [
    "# Fab PDB Maker with ImmuneBuilder's ABodyBuilder2\n",
    "Source: https://github.com/oxpig/ImmuneBuilder"
   ]
  },
  {
   "cell_type": "code",
   "execution_count": null,
   "metadata": {},
   "outputs": [],
   "source": [
    "import pandas as pd\n",
    "\n",
    "from ImmuneBuilder import ABodyBuilder2\n",
    "predictor = ABodyBuilder2()"
   ]
  },
  {
   "cell_type": "code",
   "execution_count": null,
   "metadata": {},
   "outputs": [],
   "source": [
    "## Load in Candidates\n",
    "task_grid = pd.read_excel('PD1_Candidates.xlsx')"
   ]
  },
  {
   "cell_type": "code",
   "execution_count": null,
   "metadata": {},
   "outputs": [],
   "source": [
    "## Create PDBs\n",
    "root_path = './docking/inputs/PDBs/candidates/'\n",
    "\n",
    "for index, antibody in task_grid.iterrows():\n",
    "    print(f\"Making PDB for: {antibody['antibody_id']}...\\n\")\n",
    "    experiment_path = f\"{root_path}{antibody['antibody_id']}/\"\n",
    "\n",
    "    output_file = f\"{experiment_path}{antibody['antibody_id']}.pdb\"\n",
    "    sequences = {\n",
    "        'H': antibody['h_chain'],\n",
    "        'L': antibody['l_chain']\n",
    "    }\n",
    "\n",
    "    # antibody = predictor.predict(sequences)\n",
    "    # antibody.save(output_file)"
   ]
  }
 ],
 "metadata": {
  "kernelspec": {
   "display_name": "Python 3",
   "language": "python",
   "name": "python3"
  },
  "language_info": {
   "codemirror_mode": {
    "name": "ipython",
    "version": 3
   },
   "file_extension": ".py",
   "mimetype": "text/x-python",
   "name": "python",
   "nbconvert_exporter": "python",
   "pygments_lexer": "ipython3",
   "version": "3.8.5"
  }
 },
 "nbformat": 4,
 "nbformat_minor": 2
}
