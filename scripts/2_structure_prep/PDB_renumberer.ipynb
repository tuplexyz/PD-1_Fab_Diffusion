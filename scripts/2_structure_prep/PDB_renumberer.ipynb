{
 "cells": [
  {
   "cell_type": "markdown",
   "metadata": {},
   "source": [
    "# PDB Renumberer"
   ]
  },
  {
   "cell_type": "code",
   "execution_count": 16,
   "metadata": {},
   "outputs": [],
   "source": [
    "import pandas as pd\n",
    "import pymol.cmd as cmd\n",
    "# from ipymol import viewer as cmd"
   ]
  },
  {
   "cell_type": "code",
   "execution_count": 7,
   "metadata": {},
   "outputs": [],
   "source": [
    "task_grid = pd.read_excel('../../PD1_candidates.xlsx')"
   ]
  },
  {
   "cell_type": "code",
   "execution_count": 18,
   "metadata": {},
   "outputs": [
    {
     "name": "stdout",
     "output_type": "stream",
     "text": [
      "TUPPD1-001\n",
      "Making: ../../docking/inputs/PDBs/diffused_antibodies/combined/TUPPD1-001/TUPPD1-001_renumberedLplus1000.pdb\n",
      "TUPPD1-002\n",
      "Making: ../../docking/inputs/PDBs/diffused_antibodies/combined/TUPPD1-002/TUPPD1-002_renumberedLplus1000.pdb\n",
      "TUPPD1-003\n",
      "Making: ../../docking/inputs/PDBs/diffused_antibodies/combined/TUPPD1-003/TUPPD1-003_renumberedLplus1000.pdb\n",
      "TUPPD1-004\n",
      "Making: ../../docking/inputs/PDBs/diffused_antibodies/combined/TUPPD1-004/TUPPD1-004_renumberedLplus1000.pdb\n",
      "TUPPD1-005\n",
      "Making: ../../docking/inputs/PDBs/diffused_antibodies/combined/TUPPD1-005/TUPPD1-005_renumberedLplus1000.pdb\n",
      "TUPPD1-006\n",
      "Making: ../../docking/inputs/PDBs/diffused_antibodies/combined/TUPPD1-006/TUPPD1-006_renumberedLplus1000.pdb\n",
      "TUPPD1-007\n",
      "Making: ../../docking/inputs/PDBs/diffused_antibodies/combined/TUPPD1-007/TUPPD1-007_renumberedLplus1000.pdb\n",
      "TUPPD1-008\n",
      "Making: ../../docking/inputs/PDBs/diffused_antibodies/combined/TUPPD1-008/TUPPD1-008_renumberedLplus1000.pdb\n",
      "TUPPD1-009\n",
      "Making: ../../docking/inputs/PDBs/diffused_antibodies/combined/TUPPD1-009/TUPPD1-009_renumberedLplus1000.pdb\n",
      "Acrixolimab\n",
      "Making: ../../docking/inputs/PDBs/reference_antibodies/Acrixolimab/Acrixolimab_renumberedLplus1000.pdb\n",
      "Balstilimab\n",
      "Making: ../../docking/inputs/PDBs/reference_antibodies/Balstilimab/Balstilimab_renumberedLplus1000.pdb\n",
      "Budigalimab\n",
      "Making: ../../docking/inputs/PDBs/reference_antibodies/Budigalimab/Budigalimab_renumberedLplus1000.pdb\n",
      "Camrelizumab\n",
      "Making: ../../docking/inputs/PDBs/reference_antibodies/Camrelizumab/Camrelizumab_renumberedLplus1000.pdb\n",
      "Cemiplimab\n",
      "Making: ../../docking/inputs/PDBs/reference_antibodies/Cemiplimab/Cemiplimab_renumberedLplus1000.pdb\n",
      "Cetrelimab\n",
      "Making: ../../docking/inputs/PDBs/reference_antibodies/Cetrelimab/Cetrelimab_renumberedLplus1000.pdb\n",
      "Dostarlimab\n",
      "Making: ../../docking/inputs/PDBs/reference_antibodies/Dostarlimab/Dostarlimab_renumberedLplus1000.pdb\n",
      "Enlonstobart\n",
      "Making: ../../docking/inputs/PDBs/reference_antibodies/Enlonstobart/Enlonstobart_renumberedLplus1000.pdb\n",
      "Eurestobart\n",
      "Making: ../../docking/inputs/PDBs/reference_antibodies/Eurestobart/Eurestobart_renumberedLplus1000.pdb\n",
      "Ezabenlimab\n",
      "Making: ../../docking/inputs/PDBs/reference_antibodies/Ezabenlimab/Ezabenlimab_renumberedLplus1000.pdb\n",
      "Finotonlimab\n",
      "Making: ../../docking/inputs/PDBs/reference_antibodies/Finotonlimab/Finotonlimab_renumberedLplus1000.pdb\n",
      "Geptanolimab\n",
      "Making: ../../docking/inputs/PDBs/reference_antibodies/Geptanolimab/Geptanolimab_renumberedLplus1000.pdb\n",
      "Iparomlimab\n",
      "Making: ../../docking/inputs/PDBs/reference_antibodies/Iparomlimab/Iparomlimab_renumberedLplus1000.pdb\n",
      "Lipustobart\n",
      "Making: ../../docking/inputs/PDBs/reference_antibodies/Lipustobart/Lipustobart_renumberedLplus1000.pdb\n",
      "Nivolumab\n",
      "Making: ../../docking/inputs/PDBs/reference_antibodies/Nivolumab/Nivolumab_renumberedLplus1000.pdb\n",
      "Nofazinlimab\n",
      "Making: ../../docking/inputs/PDBs/reference_antibodies/Nofazinlimab/Nofazinlimab_renumberedLplus1000.pdb\n",
      "Pembrolizumab\n",
      "Making: ../../docking/inputs/PDBs/reference_antibodies/Pembrolizumab/Pembrolizumab_renumberedLplus1000.pdb\n",
      "Penpulimab\n",
      "Making: ../../docking/inputs/PDBs/reference_antibodies/Penpulimab/Penpulimab_renumberedLplus1000.pdb\n",
      "Perenostobart\n",
      "Making: ../../docking/inputs/PDBs/reference_antibodies/Perenostobart/Perenostobart_renumberedLplus1000.pdb\n",
      "Peresolimab\n",
      "Making: ../../docking/inputs/PDBs/reference_antibodies/Peresolimab/Peresolimab_renumberedLplus1000.pdb\n",
      "Pidilizumab\n",
      "Making: ../../docking/inputs/PDBs/reference_antibodies/Pidilizumab/Pidilizumab_renumberedLplus1000.pdb\n",
      "Pimivalimab\n",
      "Making: ../../docking/inputs/PDBs/reference_antibodies/Pimivalimab/Pimivalimab_renumberedLplus1000.pdb\n",
      "Pradusinstobart\n",
      "Making: ../../docking/inputs/PDBs/reference_antibodies/Pradusinstobart/Pradusinstobart_renumberedLplus1000.pdb\n",
      "Pucotenlimab\n",
      "Making: ../../docking/inputs/PDBs/reference_antibodies/Pucotenlimab/Pucotenlimab_renumberedLplus1000.pdb\n",
      "Retifanlimab\n",
      "Making: ../../docking/inputs/PDBs/reference_antibodies/Retifanlimab/Retifanlimab_renumberedLplus1000.pdb\n",
      "Rosnilimab\n",
      "Making: ../../docking/inputs/PDBs/reference_antibodies/Rosnilimab/Rosnilimab_renumberedLplus1000.pdb\n",
      "Sasanlimab\n",
      "Making: ../../docking/inputs/PDBs/reference_antibodies/Sasanlimab/Sasanlimab_renumberedLplus1000.pdb\n",
      "Serplulimab\n",
      "Making: ../../docking/inputs/PDBs/reference_antibodies/Serplulimab/Serplulimab_renumberedLplus1000.pdb\n",
      "Sintilimab\n",
      "Making: ../../docking/inputs/PDBs/reference_antibodies/Sintilimab/Sintilimab_renumberedLplus1000.pdb\n",
      "Spartalizumab\n",
      "Making: ../../docking/inputs/PDBs/reference_antibodies/Spartalizumab/Spartalizumab_renumberedLplus1000.pdb\n",
      "Tislelizumab\n",
      "Making: ../../docking/inputs/PDBs/reference_antibodies/Tislelizumab/Tislelizumab_renumberedLplus1000.pdb\n",
      "Toripalimab\n",
      "Making: ../../docking/inputs/PDBs/reference_antibodies/Toripalimab/Toripalimab_renumberedLplus1000.pdb\n",
      "Zeluvalimab\n",
      "Making: ../../docking/inputs/PDBs/reference_antibodies/Zeluvalimab/Zeluvalimab_renumberedLplus1000.pdb\n"
     ]
    }
   ],
   "source": [
    "for index, antibody in task_grid.iterrows():\n",
    "    print(antibody['antibody_id'])\n",
    "    file = antibody['antibody_pdb_path_original'].replace('./', '../../')\n",
    "\n",
    "    output_file = file.replace(\".pdb\", \"_renumberedLplus1000.pdb\")\n",
    "    print(f\"Making: {output_file}\")\n",
    "\n",
    "    ## PyMol Renumber\n",
    "    cmd.load(file)\n",
    "    cmd.alter('chain L', 'resi=int(resi)+1000')\n",
    "    cmd.save(output_file, selection='all', format='pdb')\n",
    "    cmd.reinitialize('everything')"
   ]
  },
  {
   "cell_type": "code",
   "execution_count": null,
   "metadata": {},
   "outputs": [],
   "source": []
  }
 ],
 "metadata": {
  "kernelspec": {
   "display_name": "Python 3",
   "language": "python",
   "name": "python3"
  },
  "language_info": {
   "codemirror_mode": {
    "name": "ipython",
    "version": 3
   },
   "file_extension": ".py",
   "mimetype": "text/x-python",
   "name": "python",
   "nbconvert_exporter": "python",
   "pygments_lexer": "ipython3",
   "version": "3.9.16"
  }
 },
 "nbformat": 4,
 "nbformat_minor": 2
}
