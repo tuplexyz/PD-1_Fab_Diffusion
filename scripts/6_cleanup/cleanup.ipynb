{
 "cells": [
  {
   "cell_type": "markdown",
   "metadata": {},
   "source": [
    "# Cleanup Unnecessary HADDOCk Files"
   ]
  },
  {
   "cell_type": "code",
   "execution_count": 1,
   "metadata": {},
   "outputs": [],
   "source": [
    "import shutil\n",
    "import pandas as pd"
   ]
  },
  {
   "cell_type": "code",
   "execution_count": 3,
   "metadata": {},
   "outputs": [],
   "source": [
    "candidates = pd.read_excel(\"../../PD1_Candidates.xlsx\")"
   ]
  },
  {
   "cell_type": "code",
   "execution_count": 4,
   "metadata": {},
   "outputs": [],
   "source": [
    "## Move HADDOCK's run1/ folder to the outputs folder\n",
    "for index, candidate in candidates.iterrows():\n",
    "    candidate_id = candidate['antibody_id']\n",
    "    shutil.copytree(f\"../../docking/inputs/experiments/{candidate_id}/run1\", f\"../../docking/outputs/runs/{candidate_id}/run1\", dirs_exist_ok=True)\n",
    "    shutil.rmtree(f\"../../docking/inputs/experiments/{candidate_id}/run1\", ignore_errors=True)"
   ]
  },
  {
   "cell_type": "code",
   "execution_count": null,
   "metadata": {},
   "outputs": [],
   "source": []
  }
 ],
 "metadata": {
  "kernelspec": {
   "display_name": "base",
   "language": "python",
   "name": "python3"
  },
  "language_info": {
   "codemirror_mode": {
    "name": "ipython",
    "version": 3
   },
   "file_extension": ".py",
   "mimetype": "text/x-python",
   "name": "python",
   "nbconvert_exporter": "python",
   "pygments_lexer": "ipython3",
   "version": "3.8.5"
  }
 },
 "nbformat": 4,
 "nbformat_minor": 2
}
